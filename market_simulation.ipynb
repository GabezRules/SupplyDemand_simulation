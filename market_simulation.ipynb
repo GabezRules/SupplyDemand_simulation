{
 "cells": [
  {
   "cell_type": "code",
   "execution_count": 44,
   "metadata": {},
   "outputs": [],
   "source": [
    "import pandas as pd\n",
    "import numpy as np\n",
    "import random"
   ]
  },
  {
   "cell_type": "code",
   "execution_count": 42,
   "metadata": {},
   "outputs": [],
   "source": [
    "NUM_DAYS = 10\n",
    "NUM_SELLERS = 10\n",
    "NUM_BUYERS = 10\n",
    "\n",
    "PATH_TO_SAVE_BUYERS = \"\"\n",
    "PATH_TO_SAVE_SELLERS = \"\"\n",
    "\n",
    "all_sellers = []\n",
    "all_buyers = []\n",
    "\n",
    "buyers_data = []\n",
    "sellers_data = []\n",
    "\n",
    "setup_enviroment()\n",
    "start_simulation()"
   ]
  },
  {
   "cell_type": "code",
   "execution_count": 45,
   "metadata": {},
   "outputs": [],
   "source": [
    "class Seller():\n",
    "    def __init__(self, MIN_VALUE):\n",
    "        self.MIN_VALUE = MIN_VALUE\n",
    "        self.expected_value = MIN_VALUE\n",
    "        self.did_transaction = False\n",
    "        self.success = False"
   ]
  },
  {
   "cell_type": "code",
   "execution_count": 46,
   "metadata": {},
   "outputs": [],
   "source": [
    "class Buyer():\n",
    "    def __init__(self, MAX_VALUE):\n",
    "        self.MAX_VALUE = MAX_VALUE\n",
    "        self.expected_value = MAX_VALUE\n",
    "        self.did_transaction = False\n",
    "        self.success = False"
   ]
  },
  {
   "cell_type": "code",
   "execution_count": 47,
   "metadata": {},
   "outputs": [],
   "source": [
    "def transact(seller, buyer):\n",
    "    if seller.expected_value <= buyer.expected_value: \n",
    "        seller.success = True\n",
    "        buyer.success = True\n",
    "\n",
    "        seller.expected_value = seller.expected_value*1.1\n",
    "        buyer.expected_value = buyer.expected_value*0.9\n",
    "        \n",
    "    else: \n",
    "        seller.success = False\n",
    "        buyer.success = False \n",
    "        \n",
    "        seller_buffer = seller.expected_value*0.9\n",
    "        buyer_buffer = buyer.expected_value*1.1\n",
    "        \n",
    "        if seller_buffer <= seller.MIN_VALUE: seller_buffer = seller.MIN_VALUE\n",
    "        if buyer_buffer <= buyer.MAX_VALUE: buyer_buffer = buyer.MAX_VALUE\n",
    "        \n",
    "        seller.expected_value = seller_buffer\n",
    "        buyer.expected_value = buyer_buffer\n",
    "             \n",
    "    seller.did_transaction = True\n",
    "    buyer.did_transaction = True"
   ]
  },
  {
   "cell_type": "code",
   "execution_count": 48,
   "metadata": {},
   "outputs": [],
   "source": [
    "def start_day():\n",
    "    for seller in all_sellers:\n",
    "        seller.did_transaction = False\n",
    "    \n",
    "    for buyer in all_buyers:\n",
    "        buyer.did_transaction = False"
   ]
  },
  {
   "cell_type": "code",
   "execution_count": 49,
   "metadata": {},
   "outputs": [],
   "source": [
    "def setup_enviroment():\n",
    "    for i in range(NUM_SELLERS):\n",
    "        val = random.randint(2,10)\n",
    "        all_sellers.append(Seller(float(val)))\n",
    "        \n",
    "    for i in range(NUM_BUYERS):\n",
    "        val = random.randint(2,10)\n",
    "        all_buyers.append(Buyer(float(val)))"
   ]
  },
  {
   "cell_type": "code",
   "execution_count": 50,
   "metadata": {},
   "outputs": [],
   "source": [
    "def start_simulation():\n",
    "    for i in range(NUM_DAYS):\n",
    "        start_day()\n",
    "        while not all_made_transaction():\n",
    "            \n",
    "            seller = random.choice(all_sellers)\n",
    "            buyer = random.choice(all_buyers)\n",
    "        \n",
    "            if not seller.did_transaction and not buyer.did_transaction:\n",
    "                transact(seller, buyer)\n",
    "        save_day_summary(i+1)       \n",
    "        #summary()\n",
    "        \n",
    "    summary_to_file()"
   ]
  },
  {
   "cell_type": "code",
   "execution_count": 51,
   "metadata": {},
   "outputs": [],
   "source": [
    "def summary_to_file():\n",
    "    df_sellers = pd.DataFrame(sellers_data)\n",
    "    df_sellers.to_csv(PATH_TO_SAVE_SELLERS, index = False, header=True)\n",
    "    \n",
    "    df_buyers = pd.DataFrame(buyers_data)\n",
    "    df_buyers.to_csv(PATH_TO_SAVE_BUYERS, index = False, header=True)"
   ]
  },
  {
   "cell_type": "code",
   "execution_count": 52,
   "metadata": {},
   "outputs": [],
   "source": [
    "def save_day_summary(day):\n",
    "    for seller in all_sellers:\n",
    "        row = {\n",
    "            'min_value':seller.MIN_VALUE,\n",
    "            'expected_value':seller.expected_value,\n",
    "            'success':seller.success,\n",
    "            'day':day\n",
    "        }\n",
    "        \n",
    "        sellers_data.append(row)\n",
    "    \n",
    "    for buyer in all_buyers:\n",
    "        row = {\n",
    "            'max_value':buyer.MAX_VALUE,\n",
    "            'expected_value':buyer.expected_value,\n",
    "            'success':buyer.success,\n",
    "            'day':day\n",
    "        }\n",
    "        \n",
    "        buyers_data.append(row)"
   ]
  },
  {
   "cell_type": "code",
   "execution_count": 53,
   "metadata": {},
   "outputs": [],
   "source": [
    "def all_made_transaction():\n",
    "    sellers_done = True\n",
    "    buyers_done = True\n",
    "    \n",
    "    for seller in all_sellers:\n",
    "        if not seller.did_transaction: sellers_done = False\n",
    "    \n",
    "    for buyer in all_buyers:\n",
    "        if not buyer.did_transaction: buyers_done = False\n",
    "            \n",
    "    return(sellers_done and buyers_done)"
   ]
  },
  {
   "cell_type": "code",
   "execution_count": 54,
   "metadata": {},
   "outputs": [],
   "source": [
    "def summary():\n",
    "    print(\"sellers: \")\n",
    "    for seller in all_sellers:\n",
    "        print(seller.expected_value)\n",
    "    \n",
    "    print(\"buyers: \")\n",
    "    for buyer in all_buyers:\n",
    "        print(buyer.expected_value)"
   ]
  },
  {
   "cell_type": "code",
   "execution_count": null,
   "metadata": {},
   "outputs": [],
   "source": []
  }
 ],
 "metadata": {
  "kernelspec": {
   "display_name": "Python 3",
   "language": "python",
   "name": "python3"
  },
  "language_info": {
   "codemirror_mode": {
    "name": "ipython",
    "version": 3
   },
   "file_extension": ".py",
   "mimetype": "text/x-python",
   "name": "python",
   "nbconvert_exporter": "python",
   "pygments_lexer": "ipython3",
   "version": "3.7.6"
  }
 },
 "nbformat": 4,
 "nbformat_minor": 4
}
